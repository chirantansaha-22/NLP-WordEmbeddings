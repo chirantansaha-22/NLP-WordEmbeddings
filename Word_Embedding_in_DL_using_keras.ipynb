{
  "nbformat": 4,
  "nbformat_minor": 0,
  "metadata": {
    "colab": {
      "provenance": [],
      "gpuType": "T4",
      "authorship_tag": "ABX9TyMyJKTA0uo3yQ3SlW2e+8gB",
      "include_colab_link": true
    },
    "kernelspec": {
      "name": "python3",
      "display_name": "Python 3"
    },
    "language_info": {
      "name": "python"
    },
    "accelerator": "GPU"
  },
  "cells": [
    {
      "cell_type": "markdown",
      "metadata": {
        "id": "view-in-github",
        "colab_type": "text"
      },
      "source": [
        "<a href=\"https://colab.research.google.com/github/chirantansaha-22/NLP-WordEmbeddings/blob/main/Word_Embedding_in_DL_using_keras.ipynb\" target=\"_parent\"><img src=\"https://colab.research.google.com/assets/colab-badge.svg\" alt=\"Open In Colab\"/></a>"
      ]
    },
    {
      "cell_type": "code",
      "execution_count": 2,
      "metadata": {
        "colab": {
          "base_uri": "https://localhost:8080/"
        },
        "id": "rDDo5evzdtEk",
        "outputId": "d40d8f29-64a6-4169-ad1b-0bdc3c2fb114"
      },
      "outputs": [
        {
          "output_type": "stream",
          "name": "stdout",
          "text": [
            "Requirement already satisfied: tensorflow in /usr/local/lib/python3.10/dist-packages (2.15.0)\n",
            "Requirement already satisfied: absl-py>=1.0.0 in /usr/local/lib/python3.10/dist-packages (from tensorflow) (1.4.0)\n",
            "Requirement already satisfied: astunparse>=1.6.0 in /usr/local/lib/python3.10/dist-packages (from tensorflow) (1.6.3)\n",
            "Requirement already satisfied: flatbuffers>=23.5.26 in /usr/local/lib/python3.10/dist-packages (from tensorflow) (23.5.26)\n",
            "Requirement already satisfied: gast!=0.5.0,!=0.5.1,!=0.5.2,>=0.2.1 in /usr/local/lib/python3.10/dist-packages (from tensorflow) (0.5.4)\n",
            "Requirement already satisfied: google-pasta>=0.1.1 in /usr/local/lib/python3.10/dist-packages (from tensorflow) (0.2.0)\n",
            "Requirement already satisfied: h5py>=2.9.0 in /usr/local/lib/python3.10/dist-packages (from tensorflow) (3.9.0)\n",
            "Requirement already satisfied: libclang>=13.0.0 in /usr/local/lib/python3.10/dist-packages (from tensorflow) (16.0.6)\n",
            "Requirement already satisfied: ml-dtypes~=0.2.0 in /usr/local/lib/python3.10/dist-packages (from tensorflow) (0.2.0)\n",
            "Requirement already satisfied: numpy<2.0.0,>=1.23.5 in /usr/local/lib/python3.10/dist-packages (from tensorflow) (1.25.2)\n",
            "Requirement already satisfied: opt-einsum>=2.3.2 in /usr/local/lib/python3.10/dist-packages (from tensorflow) (3.3.0)\n",
            "Requirement already satisfied: packaging in /usr/local/lib/python3.10/dist-packages (from tensorflow) (23.2)\n",
            "Requirement already satisfied: protobuf!=4.21.0,!=4.21.1,!=4.21.2,!=4.21.3,!=4.21.4,!=4.21.5,<5.0.0dev,>=3.20.3 in /usr/local/lib/python3.10/dist-packages (from tensorflow) (3.20.3)\n",
            "Requirement already satisfied: setuptools in /usr/local/lib/python3.10/dist-packages (from tensorflow) (67.7.2)\n",
            "Requirement already satisfied: six>=1.12.0 in /usr/local/lib/python3.10/dist-packages (from tensorflow) (1.16.0)\n",
            "Requirement already satisfied: termcolor>=1.1.0 in /usr/local/lib/python3.10/dist-packages (from tensorflow) (2.4.0)\n",
            "Requirement already satisfied: typing-extensions>=3.6.6 in /usr/local/lib/python3.10/dist-packages (from tensorflow) (4.9.0)\n",
            "Requirement already satisfied: wrapt<1.15,>=1.11.0 in /usr/local/lib/python3.10/dist-packages (from tensorflow) (1.14.1)\n",
            "Requirement already satisfied: tensorflow-io-gcs-filesystem>=0.23.1 in /usr/local/lib/python3.10/dist-packages (from tensorflow) (0.36.0)\n",
            "Requirement already satisfied: grpcio<2.0,>=1.24.3 in /usr/local/lib/python3.10/dist-packages (from tensorflow) (1.60.1)\n",
            "Requirement already satisfied: tensorboard<2.16,>=2.15 in /usr/local/lib/python3.10/dist-packages (from tensorflow) (2.15.2)\n",
            "Requirement already satisfied: tensorflow-estimator<2.16,>=2.15.0 in /usr/local/lib/python3.10/dist-packages (from tensorflow) (2.15.0)\n",
            "Requirement already satisfied: keras<2.16,>=2.15.0 in /usr/local/lib/python3.10/dist-packages (from tensorflow) (2.15.0)\n",
            "Requirement already satisfied: wheel<1.0,>=0.23.0 in /usr/local/lib/python3.10/dist-packages (from astunparse>=1.6.0->tensorflow) (0.42.0)\n",
            "Requirement already satisfied: google-auth<3,>=1.6.3 in /usr/local/lib/python3.10/dist-packages (from tensorboard<2.16,>=2.15->tensorflow) (2.27.0)\n",
            "Requirement already satisfied: google-auth-oauthlib<2,>=0.5 in /usr/local/lib/python3.10/dist-packages (from tensorboard<2.16,>=2.15->tensorflow) (1.2.0)\n",
            "Requirement already satisfied: markdown>=2.6.8 in /usr/local/lib/python3.10/dist-packages (from tensorboard<2.16,>=2.15->tensorflow) (3.5.2)\n",
            "Requirement already satisfied: requests<3,>=2.21.0 in /usr/local/lib/python3.10/dist-packages (from tensorboard<2.16,>=2.15->tensorflow) (2.31.0)\n",
            "Requirement already satisfied: tensorboard-data-server<0.8.0,>=0.7.0 in /usr/local/lib/python3.10/dist-packages (from tensorboard<2.16,>=2.15->tensorflow) (0.7.2)\n",
            "Requirement already satisfied: werkzeug>=1.0.1 in /usr/local/lib/python3.10/dist-packages (from tensorboard<2.16,>=2.15->tensorflow) (3.0.1)\n",
            "Requirement already satisfied: cachetools<6.0,>=2.0.0 in /usr/local/lib/python3.10/dist-packages (from google-auth<3,>=1.6.3->tensorboard<2.16,>=2.15->tensorflow) (5.3.2)\n",
            "Requirement already satisfied: pyasn1-modules>=0.2.1 in /usr/local/lib/python3.10/dist-packages (from google-auth<3,>=1.6.3->tensorboard<2.16,>=2.15->tensorflow) (0.3.0)\n",
            "Requirement already satisfied: rsa<5,>=3.1.4 in /usr/local/lib/python3.10/dist-packages (from google-auth<3,>=1.6.3->tensorboard<2.16,>=2.15->tensorflow) (4.9)\n",
            "Requirement already satisfied: requests-oauthlib>=0.7.0 in /usr/local/lib/python3.10/dist-packages (from google-auth-oauthlib<2,>=0.5->tensorboard<2.16,>=2.15->tensorflow) (1.3.1)\n",
            "Requirement already satisfied: charset-normalizer<4,>=2 in /usr/local/lib/python3.10/dist-packages (from requests<3,>=2.21.0->tensorboard<2.16,>=2.15->tensorflow) (3.3.2)\n",
            "Requirement already satisfied: idna<4,>=2.5 in /usr/local/lib/python3.10/dist-packages (from requests<3,>=2.21.0->tensorboard<2.16,>=2.15->tensorflow) (3.6)\n",
            "Requirement already satisfied: urllib3<3,>=1.21.1 in /usr/local/lib/python3.10/dist-packages (from requests<3,>=2.21.0->tensorboard<2.16,>=2.15->tensorflow) (2.0.7)\n",
            "Requirement already satisfied: certifi>=2017.4.17 in /usr/local/lib/python3.10/dist-packages (from requests<3,>=2.21.0->tensorboard<2.16,>=2.15->tensorflow) (2024.2.2)\n",
            "Requirement already satisfied: MarkupSafe>=2.1.1 in /usr/local/lib/python3.10/dist-packages (from werkzeug>=1.0.1->tensorboard<2.16,>=2.15->tensorflow) (2.1.5)\n",
            "Requirement already satisfied: pyasn1<0.6.0,>=0.4.6 in /usr/local/lib/python3.10/dist-packages (from pyasn1-modules>=0.2.1->google-auth<3,>=1.6.3->tensorboard<2.16,>=2.15->tensorflow) (0.5.1)\n",
            "Requirement already satisfied: oauthlib>=3.0.0 in /usr/local/lib/python3.10/dist-packages (from requests-oauthlib>=0.7.0->google-auth-oauthlib<2,>=0.5->tensorboard<2.16,>=2.15->tensorflow) (3.2.2)\n"
          ]
        }
      ],
      "source": [
        "!pip install tensorflow"
      ]
    },
    {
      "cell_type": "code",
      "source": [
        "import tensorflow as tf"
      ],
      "metadata": {
        "id": "k20otjVop4u1"
      },
      "execution_count": 4,
      "outputs": []
    },
    {
      "cell_type": "code",
      "source": [
        "tf.__version__"
      ],
      "metadata": {
        "colab": {
          "base_uri": "https://localhost:8080/",
          "height": 36
        },
        "id": "0OnA58FZqDIT",
        "outputId": "c05a47e4-665a-4c8f-dbb5-1292e24ac95c"
      },
      "execution_count": 5,
      "outputs": [
        {
          "output_type": "execute_result",
          "data": {
            "text/plain": [
              "'2.15.0'"
            ],
            "application/vnd.google.colaboratory.intrinsic+json": {
              "type": "string"
            }
          },
          "metadata": {},
          "execution_count": 5
        }
      ]
    },
    {
      "cell_type": "code",
      "source": [
        "from tensorflow.keras.preprocessing.text import one_hot"
      ],
      "metadata": {
        "id": "-2aMaUY2qGJN"
      },
      "execution_count": 6,
      "outputs": []
    },
    {
      "cell_type": "code",
      "source": [
        "paragraph=[  'the glass of milk',\n",
        "     'the glass of juice',\n",
        "     'the cup of tea',\n",
        "    'I am a good boy',\n",
        "     'I am a good developer',\n",
        "     'understand the meaning of words',\n",
        "     'your videos are good']"
      ],
      "metadata": {
        "id": "SnT3ladEsS7q"
      },
      "execution_count": 12,
      "outputs": []
    },
    {
      "cell_type": "code",
      "source": [
        "paragraph"
      ],
      "metadata": {
        "colab": {
          "base_uri": "https://localhost:8080/"
        },
        "id": "ofXOsjYEsUGj",
        "outputId": "ecae1a75-1b88-4be1-ac30-5a302279cd12"
      },
      "execution_count": 13,
      "outputs": [
        {
          "output_type": "execute_result",
          "data": {
            "text/plain": [
              "['the glass of milk',\n",
              " 'the glass of juice',\n",
              " 'the cup of tea',\n",
              " 'I am a good boy',\n",
              " 'I am a good developer',\n",
              " 'understand the meaning of words',\n",
              " 'your videos are good']"
            ]
          },
          "metadata": {},
          "execution_count": 13
        }
      ]
    },
    {
      "cell_type": "code",
      "source": [
        "vocab_size=500"
      ],
      "metadata": {
        "id": "CNy7qGoLwVxY"
      },
      "execution_count": 14,
      "outputs": []
    },
    {
      "cell_type": "code",
      "source": [
        "ohe_encoded=[one_hot(sentence,vocab_size) for sentence in paragraph]"
      ],
      "metadata": {
        "id": "NR13NzPAsoSW"
      },
      "execution_count": 15,
      "outputs": []
    },
    {
      "cell_type": "code",
      "source": [
        "ohe_encoded"
      ],
      "metadata": {
        "colab": {
          "base_uri": "https://localhost:8080/"
        },
        "id": "So9H5-4etAXd",
        "outputId": "373a43df-ecaf-465e-eec2-9926bd113ae3"
      },
      "execution_count": 16,
      "outputs": [
        {
          "output_type": "execute_result",
          "data": {
            "text/plain": [
              "[[369, 51, 209, 286],\n",
              " [369, 51, 209, 340],\n",
              " [369, 491, 209, 156],\n",
              " [131, 201, 38, 208, 223],\n",
              " [131, 201, 38, 208, 268],\n",
              " [459, 369, 92, 209, 103],\n",
              " [297, 400, 82, 208]]"
            ]
          },
          "metadata": {},
          "execution_count": 16
        }
      ]
    },
    {
      "cell_type": "code",
      "source": [
        "from tensorflow.keras.layers import Embedding\n",
        "from tensorflow.keras.preprocessing.sequence import pad_sequences\n",
        "from tensorflow.keras.models import Sequential"
      ],
      "metadata": {
        "id": "O3Dsjo_NwlfQ"
      },
      "execution_count": 17,
      "outputs": []
    },
    {
      "cell_type": "code",
      "source": [
        "sent_length=8\n",
        "padded_ohe=pad_sequences(ohe_encoded,padding=\"pre\",maxlen=sent_length)\n",
        "padded_ohe"
      ],
      "metadata": {
        "colab": {
          "base_uri": "https://localhost:8080/"
        },
        "id": "4dFhd3WMwj8T",
        "outputId": "7bc13a40-b06c-431d-c49c-9f4569125bd4"
      },
      "execution_count": 30,
      "outputs": [
        {
          "output_type": "execute_result",
          "data": {
            "text/plain": [
              "array([[  0,   0,   0,   0, 369,  51, 209, 286],\n",
              "       [  0,   0,   0,   0, 369,  51, 209, 340],\n",
              "       [  0,   0,   0,   0, 369, 491, 209, 156],\n",
              "       [  0,   0,   0, 131, 201,  38, 208, 223],\n",
              "       [  0,   0,   0, 131, 201,  38, 208, 268],\n",
              "       [  0,   0,   0, 459, 369,  92, 209, 103],\n",
              "       [  0,   0,   0,   0, 297, 400,  82, 208]], dtype=int32)"
            ]
          },
          "metadata": {},
          "execution_count": 30
        }
      ]
    },
    {
      "cell_type": "code",
      "source": [
        "#tf.keras.backend.clear_session()"
      ],
      "metadata": {
        "id": "KCLdlDXLzgWZ"
      },
      "execution_count": 29,
      "outputs": []
    },
    {
      "cell_type": "code",
      "source": [
        "model=Sequential()"
      ],
      "metadata": {
        "id": "MbJoLXrJxepQ"
      },
      "execution_count": 31,
      "outputs": []
    },
    {
      "cell_type": "code",
      "source": [
        "model.add(Embedding(vocab_size,25,input_length=sent_length))\n",
        "model.compile(optimizer='adam',loss='mse')"
      ],
      "metadata": {
        "id": "uvXM3e90xmPQ"
      },
      "execution_count": 32,
      "outputs": []
    },
    {
      "cell_type": "code",
      "source": [
        "model.summary()"
      ],
      "metadata": {
        "colab": {
          "base_uri": "https://localhost:8080/"
        },
        "id": "cNoqbCity0Yy",
        "outputId": "a32a1457-81ea-4f93-fcb6-6c7a933234c0"
      },
      "execution_count": 33,
      "outputs": [
        {
          "output_type": "stream",
          "name": "stdout",
          "text": [
            "Model: \"sequential\"\n",
            "_________________________________________________________________\n",
            " Layer (type)                Output Shape              Param #   \n",
            "=================================================================\n",
            " embedding (Embedding)       (None, 8, 25)             12500     \n",
            "                                                                 \n",
            "=================================================================\n",
            "Total params: 12500 (48.83 KB)\n",
            "Trainable params: 12500 (48.83 KB)\n",
            "Non-trainable params: 0 (0.00 Byte)\n",
            "_________________________________________________________________\n"
          ]
        }
      ]
    },
    {
      "cell_type": "code",
      "source": [
        "padded_ohe[0]"
      ],
      "metadata": {
        "colab": {
          "base_uri": "https://localhost:8080/"
        },
        "id": "JYE9UQ9Sy1qb",
        "outputId": "fd68025f-db3e-4302-fc54-58266799184e"
      },
      "execution_count": 34,
      "outputs": [
        {
          "output_type": "execute_result",
          "data": {
            "text/plain": [
              "array([  0,   0,   0,   0, 369,  51, 209, 286], dtype=int32)"
            ]
          },
          "metadata": {},
          "execution_count": 34
        }
      ]
    },
    {
      "cell_type": "code",
      "source": [
        "output_padded_0=model.predict(padded_ohe[0])"
      ],
      "metadata": {
        "colab": {
          "base_uri": "https://localhost:8080/"
        },
        "id": "z-IX_Hk6zPTZ",
        "outputId": "61e600f8-81e6-4912-d3a6-7e09c47f9512"
      },
      "execution_count": 35,
      "outputs": [
        {
          "output_type": "stream",
          "name": "stdout",
          "text": [
            "1/1 [==============================] - 0s 37ms/step\n"
          ]
        }
      ]
    },
    {
      "cell_type": "code",
      "source": [
        "output_padded_0.shape"
      ],
      "metadata": {
        "colab": {
          "base_uri": "https://localhost:8080/"
        },
        "id": "kogV0OWFzTIr",
        "outputId": "cb65f695-e879-4787-d0d2-e2a937874e2d"
      },
      "execution_count": 36,
      "outputs": [
        {
          "output_type": "execute_result",
          "data": {
            "text/plain": [
              "(8, 25)"
            ]
          },
          "metadata": {},
          "execution_count": 36
        }
      ]
    },
    {
      "cell_type": "code",
      "source": [
        "model.predict(padded_ohe)"
      ],
      "metadata": {
        "colab": {
          "base_uri": "https://localhost:8080/"
        },
        "id": "UbL-KFuVzbuI",
        "outputId": "a4dbfe4f-e773-40ac-df76-526e2d3130c0"
      },
      "execution_count": 37,
      "outputs": [
        {
          "output_type": "stream",
          "name": "stdout",
          "text": [
            "1/1 [==============================] - 0s 34ms/step\n"
          ]
        },
        {
          "output_type": "execute_result",
          "data": {
            "text/plain": [
              "array([[[-0.01015759,  0.02418194, -0.04891051, ...,  0.03608869,\n",
              "         -0.00280112,  0.01486415],\n",
              "        [-0.01015759,  0.02418194, -0.04891051, ...,  0.03608869,\n",
              "         -0.00280112,  0.01486415],\n",
              "        [-0.01015759,  0.02418194, -0.04891051, ...,  0.03608869,\n",
              "         -0.00280112,  0.01486415],\n",
              "        ...,\n",
              "        [ 0.02161056, -0.03415811,  0.03852335, ...,  0.0227936 ,\n",
              "          0.0213164 ,  0.04258763],\n",
              "        [ 0.00926441, -0.00982281,  0.00466546, ...,  0.01635695,\n",
              "          0.01711817, -0.02178252],\n",
              "        [ 0.01232457,  0.04587734,  0.0498617 , ...,  0.03174592,\n",
              "         -0.01426836,  0.01476489]],\n",
              "\n",
              "       [[-0.01015759,  0.02418194, -0.04891051, ...,  0.03608869,\n",
              "         -0.00280112,  0.01486415],\n",
              "        [-0.01015759,  0.02418194, -0.04891051, ...,  0.03608869,\n",
              "         -0.00280112,  0.01486415],\n",
              "        [-0.01015759,  0.02418194, -0.04891051, ...,  0.03608869,\n",
              "         -0.00280112,  0.01486415],\n",
              "        ...,\n",
              "        [ 0.02161056, -0.03415811,  0.03852335, ...,  0.0227936 ,\n",
              "          0.0213164 ,  0.04258763],\n",
              "        [ 0.00926441, -0.00982281,  0.00466546, ...,  0.01635695,\n",
              "          0.01711817, -0.02178252],\n",
              "        [ 0.01727405,  0.02603442, -0.01065396, ...,  0.03880939,\n",
              "         -0.00156665,  0.00206913]],\n",
              "\n",
              "       [[-0.01015759,  0.02418194, -0.04891051, ...,  0.03608869,\n",
              "         -0.00280112,  0.01486415],\n",
              "        [-0.01015759,  0.02418194, -0.04891051, ...,  0.03608869,\n",
              "         -0.00280112,  0.01486415],\n",
              "        [-0.01015759,  0.02418194, -0.04891051, ...,  0.03608869,\n",
              "         -0.00280112,  0.01486415],\n",
              "        ...,\n",
              "        [-0.00899925,  0.00389962,  0.04420855, ..., -0.00962757,\n",
              "         -0.01728625,  0.01338295],\n",
              "        [ 0.00926441, -0.00982281,  0.00466546, ...,  0.01635695,\n",
              "          0.01711817, -0.02178252],\n",
              "        [ 0.00585941,  0.00288987, -0.00824954, ..., -0.02885749,\n",
              "          0.01033864, -0.01528702]],\n",
              "\n",
              "       ...,\n",
              "\n",
              "       [[-0.01015759,  0.02418194, -0.04891051, ...,  0.03608869,\n",
              "         -0.00280112,  0.01486415],\n",
              "        [-0.01015759,  0.02418194, -0.04891051, ...,  0.03608869,\n",
              "         -0.00280112,  0.01486415],\n",
              "        [-0.01015759,  0.02418194, -0.04891051, ...,  0.03608869,\n",
              "         -0.00280112,  0.01486415],\n",
              "        ...,\n",
              "        [ 0.02727542, -0.04866594,  0.02792018, ..., -0.00057907,\n",
              "          0.00585074,  0.04704219],\n",
              "        [ 0.03938097, -0.02320391,  0.03105375, ..., -0.03026273,\n",
              "          0.04716146,  0.01302454],\n",
              "        [-0.00350178, -0.01602183, -0.01617782, ...,  0.01035672,\n",
              "         -0.02519107,  0.02712151]],\n",
              "\n",
              "       [[-0.01015759,  0.02418194, -0.04891051, ...,  0.03608869,\n",
              "         -0.00280112,  0.01486415],\n",
              "        [-0.01015759,  0.02418194, -0.04891051, ...,  0.03608869,\n",
              "         -0.00280112,  0.01486415],\n",
              "        [-0.01015759,  0.02418194, -0.04891051, ...,  0.03608869,\n",
              "         -0.00280112,  0.01486415],\n",
              "        ...,\n",
              "        [-0.00718625,  0.02300438,  0.02305518, ...,  0.03409671,\n",
              "          0.04834301, -0.0487361 ],\n",
              "        [ 0.00926441, -0.00982281,  0.00466546, ...,  0.01635695,\n",
              "          0.01711817, -0.02178252],\n",
              "        [-0.02614013, -0.03875812, -0.03158406, ...,  0.02643353,\n",
              "          0.04300253, -0.0076933 ]],\n",
              "\n",
              "       [[-0.01015759,  0.02418194, -0.04891051, ...,  0.03608869,\n",
              "         -0.00280112,  0.01486415],\n",
              "        [-0.01015759,  0.02418194, -0.04891051, ...,  0.03608869,\n",
              "         -0.00280112,  0.01486415],\n",
              "        [-0.01015759,  0.02418194, -0.04891051, ...,  0.03608869,\n",
              "         -0.00280112,  0.01486415],\n",
              "        ...,\n",
              "        [ 0.0396993 ,  0.03509822, -0.03247721, ..., -0.03329536,\n",
              "         -0.04658568,  0.00316559],\n",
              "        [ 0.01891835, -0.00763275,  0.02913048, ..., -0.02437427,\n",
              "          0.03982675,  0.00423267],\n",
              "        [ 0.03938097, -0.02320391,  0.03105375, ..., -0.03026273,\n",
              "          0.04716146,  0.01302454]]], dtype=float32)"
            ]
          },
          "metadata": {},
          "execution_count": 37
        }
      ]
    },
    {
      "cell_type": "code",
      "source": [],
      "metadata": {
        "id": "89pI4gMp0LKx"
      },
      "execution_count": null,
      "outputs": []
    }
  ]
}